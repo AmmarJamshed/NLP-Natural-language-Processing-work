{
 "cells": [
  {
   "cell_type": "code",
   "execution_count": 1,
   "metadata": {},
   "outputs": [],
   "source": [
    "import re\n",
    "text = ''' I am a Universe, all life acccepting and that which resutled from nothing into clusters of anomalies \n",
    "within speheres of Working magnetic disonance of the cosmos 2134\n",
    "\n",
    "'''"
   ]
  },
  {
   "cell_type": "code",
   "execution_count": 2,
   "metadata": {},
   "outputs": [],
   "source": [
    "pattern = r\"the\""
   ]
  },
  {
   "cell_type": "code",
   "execution_count": 3,
   "metadata": {},
   "outputs": [
    {
     "name": "stdout",
     "output_type": "stream",
     "text": [
      " I am a Universe, all life acccepting and that which resutled from nothing into clusters of anomalies \n",
      "within speheres of Working magnetic disonance of X cosmos 2134\n",
      "\n",
      "\n"
     ]
    }
   ],
   "source": [
    "print(re.sub(pattern,\"X\", text))"
   ]
  },
  {
   "cell_type": "code",
   "execution_count": 4,
   "metadata": {},
   "outputs": [],
   "source": [
    "# also match on uppercase\n",
    "pattern = r\"[Tt]he\""
   ]
  },
  {
   "cell_type": "code",
   "execution_count": 5,
   "metadata": {},
   "outputs": [],
   "source": [
    "# Match on Digits\n",
    "pattern = r\"[0-9]\""
   ]
  },
  {
   "cell_type": "code",
   "execution_count": 6,
   "metadata": {},
   "outputs": [],
   "source": [
    "# Match on Uppercase\n",
    "pattern = r\"[A-Z]\""
   ]
  },
  {
   "cell_type": "code",
   "execution_count": 7,
   "metadata": {},
   "outputs": [],
   "source": [
    "# Match any of the words\n",
    "pattern = r\"of|the|we\""
   ]
  },
  {
   "cell_type": "markdown",
   "metadata": {},
   "source": [
    "# 2. Negation"
   ]
  },
  {
   "cell_type": "code",
   "execution_count": 8,
   "metadata": {},
   "outputs": [],
   "source": [
    "# Match on anything that is not Digits\n",
    "pattern = r\"[0-9]\""
   ]
  },
  {
   "cell_type": "code",
   "execution_count": 9,
   "metadata": {},
   "outputs": [
    {
     "name": "stdout",
     "output_type": "stream",
     "text": [
      " I am a Universe, all life acccepting and that which resutled from nothing into clusters of anomalies \n",
      "within speheres of Working magnetic disonance of the cosmos \n",
      "\n",
      "\n"
     ]
    }
   ],
   "source": [
    "print(re.sub(pattern,\"\", text))"
   ]
  },
  {
   "cell_type": "code",
   "execution_count": 10,
   "metadata": {},
   "outputs": [],
   "source": [
    "# Match on Anything that is Digits \n",
    "pattern = r\"[^0-9]\""
   ]
  },
  {
   "cell_type": "code",
   "execution_count": 11,
   "metadata": {},
   "outputs": [
    {
     "name": "stdout",
     "output_type": "stream",
     "text": [
      "2134\n"
     ]
    }
   ],
   "source": [
    "print(re.sub(pattern,\"\", text))"
   ]
  },
  {
   "cell_type": "markdown",
   "metadata": {},
   "source": [
    "# 3. Optionality"
   ]
  },
  {
   "cell_type": "code",
   "execution_count": 12,
   "metadata": {},
   "outputs": [],
   "source": [
    "text = \"begin begun begin beginning\""
   ]
  },
  {
   "cell_type": "code",
   "execution_count": 13,
   "metadata": {},
   "outputs": [],
   "source": [
    "# .  ->  means match anything -> like a wildcard\n",
    "pattern = r'beg.n'"
   ]
  },
  {
   "cell_type": "code",
   "execution_count": 14,
   "metadata": {},
   "outputs": [
    {
     "name": "stdout",
     "output_type": "stream",
     "text": [
      "X X X Xning\n"
     ]
    }
   ],
   "source": [
    "print(re.sub(pattern,\"X\", text))"
   ]
  },
  {
   "cell_type": "code",
   "execution_count": 15,
   "metadata": {},
   "outputs": [],
   "source": [
    "text = \"Colour can be spelled color\""
   ]
  },
  {
   "cell_type": "code",
   "execution_count": 16,
   "metadata": {},
   "outputs": [],
   "source": [
    "# ?  ->  means previous character is optional\n",
    "pattern = r\"colou?r\""
   ]
  },
  {
   "cell_type": "code",
   "execution_count": 17,
   "metadata": {},
   "outputs": [
    {
     "name": "stdout",
     "output_type": "stream",
     "text": [
      "Colour can be spelled \n"
     ]
    }
   ],
   "source": [
    "print(re.sub(pattern,\"\", text))"
   ]
  },
  {
   "cell_type": "code",
   "execution_count": 52,
   "metadata": {},
   "outputs": [],
   "source": [
    "import re\n",
    "text = '''I am a Universe, all life acccepting and \n",
    "that which resutled from nothing into clusters of anomalies \n",
    "within speheres of Working magnetic disonance of the cosmos 2134'''"
   ]
  },
  {
   "cell_type": "code",
   "execution_count": 42,
   "metadata": {},
   "outputs": [],
   "source": [
    "# Making sure the match is non greedy using the ? char\n",
    "pattern = r\"w.*?\""
   ]
  },
  {
   "cell_type": "code",
   "execution_count": 43,
   "metadata": {},
   "outputs": [
    {
     "name": "stdout",
     "output_type": "stream",
     "text": [
      "I am a Universe, all life acccepting and \n",
      "that hich resutled from nothing into clusters of anomalies \n",
      "ithin speheres of Working magnetic disonance of the cosmos 2134\n",
      "\n",
      "\n"
     ]
    }
   ],
   "source": [
    "print(re.sub(pattern,\"\", text))"
   ]
  },
  {
   "cell_type": "markdown",
   "metadata": {},
   "source": [
    "# 4. Aliases"
   ]
  },
  {
   "cell_type": "markdown",
   "metadata": {},
   "source": [
    "## \\w - match word\n",
    "## \\d - match digit\n",
    "## \\s -  match whitespace\n",
    "## \\W - match not WORD\n",
    "## \\D - match not Digit \n",
    "## \\S - match not whitespace"
   ]
  },
  {
   "cell_type": "code",
   "execution_count": 44,
   "metadata": {},
   "outputs": [],
   "source": [
    "# match not word\n",
    "pattern = r\"\\W\""
   ]
  },
  {
   "cell_type": "code",
   "execution_count": 45,
   "metadata": {},
   "outputs": [
    {
     "name": "stdout",
     "output_type": "stream",
     "text": [
      "IamaUniversealllifeaccceptingandthatwhichresutledfromnothingintoclustersofanomalieswithinspeheresofWorkingmagneticdisonanceofthecosmos2134\n"
     ]
    }
   ],
   "source": [
    "print(re.sub(pattern,\"\", text))"
   ]
  },
  {
   "cell_type": "code",
   "execution_count": 46,
   "metadata": {},
   "outputs": [],
   "source": [
    "# match digit\n",
    "pattern = r\"\\d\""
   ]
  },
  {
   "cell_type": "code",
   "execution_count": 47,
   "metadata": {},
   "outputs": [
    {
     "name": "stdout",
     "output_type": "stream",
     "text": [
      "I am a Universe, all life acccepting and \n",
      "that which resutled from nothing into clusters of anomalies \n",
      "within speheres of Working magnetic disonance of the cosmos \n",
      "\n",
      "\n"
     ]
    }
   ],
   "source": [
    "print(re.sub(pattern,\"\", text))"
   ]
  },
  {
   "cell_type": "code",
   "execution_count": 48,
   "metadata": {},
   "outputs": [],
   "source": [
    "# delete only words at start of the string\n",
    "pattern = r'^\\w+'"
   ]
  },
  {
   "cell_type": "code",
   "execution_count": 49,
   "metadata": {},
   "outputs": [
    {
     "name": "stdout",
     "output_type": "stream",
     "text": [
      " am a Universe, all life acccepting and \n",
      "that which resutled from nothing into clusters of anomalies \n",
      "within speheres of Working magnetic disonance of the cosmos 2134\n",
      "\n",
      "\n"
     ]
    }
   ],
   "source": [
    "print(re.sub(pattern,\"\", text))"
   ]
  },
  {
   "cell_type": "markdown",
   "metadata": {},
   "source": [
    "# 5. Anchors"
   ]
  },
  {
   "cell_type": "code",
   "execution_count": 54,
   "metadata": {},
   "outputs": [],
   "source": [
    "# use anchor to match at the end of the string\n",
    "pattern = r'\\W$'"
   ]
  },
  {
   "cell_type": "code",
   "execution_count": 55,
   "metadata": {},
   "outputs": [
    {
     "name": "stdout",
     "output_type": "stream",
     "text": [
      "I am a Universe, all life acccepting and \n",
      "that which resutled from nothing into clusters of anomalies \n",
      "within speheres of Working magnetic disonance of the cosmos 2134\n"
     ]
    }
   ],
   "source": [
    "print(re.sub(pattern,\"\", text))"
   ]
  },
  {
   "cell_type": "code",
   "execution_count": 56,
   "metadata": {},
   "outputs": [
    {
     "name": "stdout",
     "output_type": "stream",
     "text": [
      "I am a Universe, all life acccepting and\n",
      "that which resutled from nothing into clusters of anomalies\n",
      "within speheres of Working magnetic disonance of the cosmos 2134\n"
     ]
    }
   ],
   "source": [
    "# multiline mode to delete words at the end of each line\n",
    "print(re.sub(pattern,\"\", text, flags=re.MULTILINE))"
   ]
  },
  {
   "cell_type": "code",
   "execution_count": null,
   "metadata": {},
   "outputs": [],
   "source": []
  }
 ],
 "metadata": {
  "kernelspec": {
   "display_name": "Python 3",
   "language": "python",
   "name": "python3"
  },
  "language_info": {
   "codemirror_mode": {
    "name": "ipython",
    "version": 3
   },
   "file_extension": ".py",
   "mimetype": "text/x-python",
   "name": "python",
   "nbconvert_exporter": "python",
   "pygments_lexer": "ipython3",
   "version": "3.8.5"
  }
 },
 "nbformat": 4,
 "nbformat_minor": 4
}
